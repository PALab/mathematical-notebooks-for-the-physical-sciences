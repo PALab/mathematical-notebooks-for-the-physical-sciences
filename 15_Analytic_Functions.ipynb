{
  "cells": [
    {
      "metadata": {},
      "cell_type": "markdown",
      "source": "In Chapter 15 of a Guided Tour of mathematical methods for the Physical Sciences, we explore when a complex function with complex argument is *analytic*. There are two reasons we like to explore analytic functions. First, we'll see that these analytic functions can help us solve a differential equation directly. Second, it sets us up for solving integrals in Chapter 16."
    },
    {
      "metadata": {},
      "cell_type": "markdown",
      "source": "We can write the function $h(z) = f(z) + ig(z)$ and $z = x + iy$. Analytic functions have well-behaved derivatives with respect to $z$: How you approach $z$ does not matter in that case. A derivation of the possible ways to compute derivatives with respect to $z = x+ iy$ leads us to the Cauchy-Riemann relations:\n\n$$ \\frac{df}{dx} = \\frac{dg}{dy} \\quad \\mbox{and} \\quad \\frac{dg}{dx} = -\\frac{df}{dy}.$$\nWe can compute these derivatives, of course, but in words *analytic* functions are well-behaved; derivatives exist and are indepent of your approach. This summarizes the math, and the general description, but one difficulty remains: how can we visualize $h$?\n\nOne strategy is to map the magnitude of complex numbers as \"lightness,\" and its phase as \"hue\":"
    },
    {
      "metadata": {
        "trusted": true
      },
      "cell_type": "code",
      "source": "import numpy as np\nfrom numpy import pi\nimport matplotlib.pyplot as plt\n%matplotlib notebook\nfrom colorsys import hls_to_rgb\n\ndef colorize(z):\n    '''This takes in a grid of complex numbers (x, iy) and converts these to a grid with rgb colours and saturation'''\n    \n    # magnitude and phase of the complex nubmer\n    r = np.abs(z) \n    arg = np.angle(z) \n    \n    # convenient colour ranges, (in hls)\n    h = arg/(2*np.pi)  # hue varies as arg(z)\n    l = 1.0 - 1.0/(1.0 + r**0.5) # lightness defined as a function of r = abs(z)\n    s = 1 # saturation\n\n    # convert hls to rgb in an array, of the right shape:\n    c = np.vectorize(hls_to_rgb) (h,l,s) # --> make an rgb tuple\n    c = np.array(c)  # -->  transform array of (3,n,m) to (n,m,3):\n    c = c.swapaxes(0,2) \n    return c",
      "execution_count": null,
      "outputs": []
    },
    {
      "metadata": {},
      "cell_type": "markdown",
      "source": "Set up a grid of points $(x,y)$ where $z = x + iy$:"
    },
    {
      "metadata": {
        "trusted": true
      },
      "cell_type": "code",
      "source": "N=1000\nx,y = np.ogrid[-1:1:N*1j, -1:1:N*1j]\nz = x + 1j*y",
      "execution_count": null,
      "outputs": []
    },
    {
      "metadata": {},
      "cell_type": "markdown",
      "source": "Consider the function $h(z) = z$.\n\nThis means $h(z) = f(z)+ ig(z) = x+ iy$.\n\nIf we approach the origin from the positive or negative real axis, then $y=0$ and\n$$\\frac{dh}{dz} = \\frac{dh}{dx} = \\frac{\\partial f}{\\partial x} + i\\frac{\\partial g}{\\partial x} = 1$$\n\nApproaching the origin from the positive or negative imaginary axis, we find that\n$$\\frac{dh}{dz} = \\frac{dh}{d(iy)} = \\frac{\\partial g}{\\partial y} - i\\frac{\\partial f}{\\partial y} = 1$$\nIt seems that the derivatives at the origin are the same!\n\n### Homework\nShow the the Cauchy-Riemann relations are satisfied, not just at the origin, but for all values of $z$."
    },
    {
      "metadata": {
        "trusted": true
      },
      "cell_type": "code",
      "source": "h= z\nimg = colorize(h)\nplt.figure()\nplt.imshow(img)\nplt.show()",
      "execution_count": null,
      "outputs": []
    },
    {
      "metadata": {},
      "cell_type": "markdown",
      "source": "### Homework\nCompute the Cauchy-Riemann relations for $h(z) = 1/z$. Show that $h(z) = 1/z$ is  singular at the origin, *but* it has a well-behaved derivative anywhere but right at the origin. Can you back up your findings with a similar plot as the plot for $h(z) = z$?"
    },
    {
      "metadata": {},
      "cell_type": "markdown",
      "source": "### An essential singularity\n This means $h(z)$ has a pole at $z=0$. But let us consider the function $h(z) = \\exp(1/z)$. The visual representation is  "
    },
    {
      "metadata": {
        "trusted": true
      },
      "cell_type": "code",
      "source": "h = np.exp(1/z)\nimg = colorize(h)\nplt.figure()\nplt.imshow(img)\nplt.show()",
      "execution_count": null,
      "outputs": []
    },
    {
      "metadata": {},
      "cell_type": "markdown",
      "source": "If you zoom in on this figure near 0, you see that the colours \"cycle\" faster and faster on the imaginary (y) axis. So the derivative in this direction takes on any value, as you get closer to the origin. This is called an *essential singularity*, and in Problem a of Section 15.1 of our book it was used as an example of a function that is not analytic.If this 2D representation with hues and lightness is unclear, let's slice this function along its axes. First, for on the real axis, this function looks like this:"
    },
    {
      "metadata": {
        "trusted": true
      },
      "cell_type": "code",
      "source": "x = np.linspace(-1,1,num=250)\nplt.figure()\nplt.plot(x,np.exp(1/x),'o')\nplt.ylim(0,10)\nplt.show()",
      "execution_count": null,
      "outputs": []
    },
    {
      "metadata": {},
      "cell_type": "markdown",
      "source": "It is clear that the derivative at the origin from the negative x-axis is not the same as from the positive x-axis. On the imaginary axis, things are even more strange: $$e^{1/(iy)} = e^{-i(1/y)} = \\cos(1/y) - i\\sin(1/y)$$ This is an oscillating function in both the real and imaginary component. For example, the real component of this is:"
    },
    {
      "metadata": {
        "trusted": true
      },
      "cell_type": "code",
      "source": "y = np.linspace(0.01,1,num=1000)\nplt.figure()\nplt.plot(y,np.cos(1/y))\nplt.show()",
      "execution_count": null,
      "outputs": []
    },
    {
      "metadata": {},
      "cell_type": "markdown",
      "source": "Clearly, the derivative takes on any value, as it reaches the origin.\n\n### Homework\nOne of the consequences of the Cauchy-Riemann relations is that both the real and the imaginary parts of the analytic function $h(z)$ obey Laplace's equation:\n$$ \\nabla^2 f = \\nabla^2 g = 0.$$\nThis means we can \"solve\" potential field problems by representing them as the real and imaginary parts of an anlytic function. Plot the field lines and equipotential lines for $y>0$, for a potential field with $V(x,y=0)=V_0\\exp(-x^2/a^2),$ following section 15.2 of our book."
    },
    {
      "metadata": {
        "trusted": true
      },
      "cell_type": "code",
      "source": "",
      "execution_count": null,
      "outputs": []
    }
  ],
  "metadata": {
    "kernelspec": {
      "name": "python36",
      "display_name": "Python 3.6",
      "language": "python"
    },
    "language_info": {
      "mimetype": "text/x-python",
      "nbconvert_exporter": "python",
      "name": "python",
      "pygments_lexer": "ipython3",
      "version": "3.6.6",
      "file_extension": ".py",
      "codemirror_mode": {
        "version": 3,
        "name": "ipython"
      }
    }
  },
  "nbformat": 4,
  "nbformat_minor": 2
}