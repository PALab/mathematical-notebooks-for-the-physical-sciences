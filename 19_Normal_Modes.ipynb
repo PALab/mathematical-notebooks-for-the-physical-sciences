{
  "cells": [
    {
      "metadata": {
        "collapsed": true
      },
      "cell_type": "markdown",
      "source": "Normal modes; Do an example of solutions of radiative damping. Guess a solution that is the product of the harmonic part, and the damping. Plot this up, play with the parameters. Point out link with particle in syrup (maybe before the answer?)"
    },
    {
      "metadata": {},
      "cell_type": "markdown",
      "source": "How about showing the waves (as a fn of x,t) due to the solution of the damped harmonic source at x=0?"
    }
  ],
  "metadata": {
    "kernelspec": {
      "name": "python36",
      "display_name": "Python 3.6",
      "language": "python"
    },
    "language_info": {
      "mimetype": "text/x-python",
      "nbconvert_exporter": "python",
      "name": "python",
      "pygments_lexer": "ipython3",
      "version": "3.6.6",
      "file_extension": ".py",
      "codemirror_mode": {
        "version": 3,
        "name": "ipython"
      }
    }
  },
  "nbformat": 4,
  "nbformat_minor": 2
}