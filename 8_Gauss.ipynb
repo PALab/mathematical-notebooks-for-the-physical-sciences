{
 "cells": [
  {
   "cell_type": "markdown",
   "metadata": {},
   "source": [
    "Chapter 8 of [A guided tour of mathematical methods for the physical sciences](http://www.cambridge.org/nz/academic/subjects/physics/mathematical-methods/guided-tour-mathematical-methods-physical-sciences-3rd-edition#KUoGXYx5FTwytcUg.97) introduces the theorem of Gauss. In Chapter 6, we stood at its doorstep already, when we explored the divergence of a vector field ${\\bf v}$. All of this was described by the flux, or outward flow, through an elementary volume $dV$, with a surface $d{\\bf S}$, defined by its normal vectors, as here:\n",
    "\n",
    "![figure 1](https://ndownloader.figshare.com/files/10176042)\n",
    "\n",
    "Section 6.1 showed that the flux -- the flow across an infinitesimal surface -- is $$ d\\Phi_v = {\\bf v} \\cdot d{\\bf S}.$$  \n",
    "\n",
    "Section 6.2 says that the same flux is also $$ d\\Phi_v = \\left(\\nabla\\cdot {\\bf v}\\right)dV.$$ \n",
    "\n",
    "Chapter 7 equates these two to state the Theorem of Gauss in integral form:\n",
    "$$ \\oint_S {\\bf v} \\cdot d{\\bf S} =\\int_V \\left(\\nabla\\cdot {\\bf v}\\right)dV.$$"
   ]
  },
  {
   "cell_type": "markdown",
   "metadata": {},
   "source": [
    "### Gauss' Theorem across different dimensions\n",
    "The image above implies a 3D volume, but the 2D version we already explored in Chapter 6, and returns in the next Chapter about the Theorem of Stokes too. There, dV will be an area, and the surface reduces to a line integral. In 1D, the \"dV\" is reduced to a line, and the \"dS\" its two end points. Let's align the line with the x-axis, and then the 1D Gauss' Theorem is the familiar definition of integration:\n",
    "$$ v_x(b) - v_x(a) = \\int_a^b \\frac{\\partial v_x}{\\partial x} dx.$$"
   ]
  },
  {
   "cell_type": "markdown",
   "metadata": {},
   "source": [
    "### Gravity in a borehole, or the electric field inside a sphere\n",
    "Let us consider the vector field that represents gravitational acceleration from a mass with  ${\\bf v}({\\bf r}) = {\\bf g(\\bf{r})} = g(r)\\hat{{\\bf r}}$. Note that the physics for the electric field from a spherically symmetric charge distribution would lead to the same results!\n",
    "\n",
    "In Section 8.2, you will have worked your way through the problem of the acceleration outside such a mass:\n",
    "\n",
    "$${\\bf g}(r) = \\frac{GM}{r^2}\\hat{\\bf r}.$$\n",
    "\n",
    "Actually, Gauss' Theorem says this result is accurate for any spherically symmetric mass distribution! \n",
    "\n",
    "Inside a sphere with radius $R$ that has a *constant density*, we found that\n",
    "\n",
    "$${\\bf g}(r) = \\frac{GMr}{R^3}\\hat{\\bf r}.$$"
   ]
  },
  {
   "cell_type": "markdown",
   "metadata": {},
   "source": [
    "The combo of these two representations would describe aspects of the gravitational experience down a borehole in the Earth or that of the explorers in the movie [The Core](https://en.wikipedia.org/wiki/The_Core):"
   ]
  },
  {
   "cell_type": "code",
   "execution_count": 34,
   "metadata": {},
   "outputs": [
    {
     "data": {
      "image/png": "[encoded data removed]",
      "text/plain": [
       "<matplotlib.figure.Figure at 0x7fa4ead29c88>"
      ]
     },
     "metadata": {},
     "output_type": "display_data"
    }
   ],
   "source": [
    "import numpy as np\n",
    "import matplotlib.pyplot as plt\n",
    "\n",
    "# The constants in SI units:\n",
    "G = 6.67*10**(-11) # The Gravitational constant in m^3 s^(-2) kg^-1\n",
    "M = 6*10**24 # The Earth's mass in kg\n",
    "R = 6370*10**3 # The radius the Earth in m\n",
    "\n",
    "#  A function to compute the magnitude of the (radial) gravitational acceleration, inside or outside the Earth:\n",
    "def gravity(r):\n",
    "    if r>R:\n",
    "        g = M*G/r**2\n",
    "    else:\n",
    "        g =  M*G*r/R**3\n",
    "    return g\n",
    "\n",
    "# setting up an array with points from the centre (0) to well beyond the radius of the Earth:\n",
    "rs= np.arange(0,8*10**6,1000)\n",
    "\n",
    "# compute the magntiude of the gravitational acceleration for all points in the array rs:\n",
    "gs = []\n",
    "for r in rs:\n",
    "    gs.append(gravity(r))\n",
    "\n",
    "# plotting the results:\n",
    "plt.plot(gs,rs/1000)\n",
    "plt.axhline(R/1000,linestyle='dashed',color='r')\n",
    "plt.xlabel(\"Gravitational acceleration (m/s$^2$)\")\n",
    "plt.ylabel(\"Distance to the centre of the Earth (km)\")\n",
    "plt.show()\n",
    "                    "
   ]
  },
  {
   "cell_type": "markdown",
   "metadata": {},
   "source": [
    "We see that gravity at the centre of the Earth is zero, as any body there would be pulled in every direction equally, canceling all contributions. As we move to the surface, the gravitational field increases linearly in strength for this mass with constant density, until we reach the Earth's surface. Then, with no more mass contributions to incorporate, gravitational acceleration decreases as $r^{-2}$."
   ]
  },
  {
   "cell_type": "markdown",
   "metadata": {},
   "source": [
    "The observed gravitational accelaration at the Earth's surface does not vary much from this model: around 9.8 m/s$^2$, [or 980 Gals](https://en.wikipedia.org/wiki/Gal_(unit)). Slightly more accurate would be an ellipsoidal shape to the Earth, where gravity at the poles is about 9.83 and at the equator 9.78 m/s$^2$. and finally here is a picture from the GRACE mission (figure from wikipedia), showing the variations in $g$ from this best fitting ellipsoid are on the order of 100 mGals:\n",
    "![GRACE.jpg](https://upload.wikimedia.org/wikipedia/commons/5/56/Geoids_sm.jpg)\n",
    "This means the Earth's density is pretty close to spherically symmetric. So the g values for r > 6730 km we display here are quite realistic. Remember in this calculation that the values of g inside the Earth assumed that the density is constant. For Earth, density generally *increases* with depth, according to the PREM model (figure from wikipedia):\n",
    "![densityinearth.jpg](https://upload.wikimedia.org/wikipedia/commons/8/89/RadialDensityPREM.jpg)\n",
    "We'll leave extending our calculations here to a more realistic distribution of density (maybe start with a linear increase from 2 to 12 g/cm$^3$) to the reader of this notebook, while we return to the [overview of jupyter notebooks](https://pal.blogs.auckland.ac.nz/2017/12/02/jupyter-notebooks-for-mathematical-methods-in-the-physical-sciences/)!"
   ]
  },
  {
   "cell_type": "code",
   "execution_count": null,
   "metadata": {},
   "outputs": [],
   "source": []
  }
 ],
 "metadata": {
  "kernelspec": {
   "display_name": "Python [default]",
   "language": "python",
   "name": "python3"
  },
  "language_info": {
   "codemirror_mode": {
    "name": "ipython",
    "version": 3
   },
   "file_extension": ".py",
   "mimetype": "text/x-python",
   "name": "python",
   "nbconvert_exporter": "python",
   "pygments_lexer": "ipython3",
   "version": "3.5.4"
  }
 },
 "nbformat": 4,
 "nbformat_minor": 2
}
