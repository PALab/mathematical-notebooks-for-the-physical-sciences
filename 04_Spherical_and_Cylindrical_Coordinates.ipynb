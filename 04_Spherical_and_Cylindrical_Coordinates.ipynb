{
  "cells": [
    {
      "metadata": {},
      "cell_type": "markdown",
      "source": "Chapter 4 of [A Guided Tour of Mathematical Methods for the Physical Sciences](http://www.cambridge.org/9780521542616) concerns different coordinate systems and how to navigate between these. To illustrate the power of coordinate transformations, let us consider the Gaussian function. Gaussians play an important role in probablity and inverse theory, and as we'll see, its integral comes up in often in Physical problems.\n\nIn its most general form, the Gaussian is $$ f(x)=ae^{-{\\frac {(x-b)^{2}}{2c^{2}}}}.$$ First, we will define a function for Gaussians:"
    },
    {
      "metadata": {
        "slideshow": {
          "slide_type": "slide"
        },
        "trusted": true
      },
      "cell_type": "code",
      "source": "import numpy as np\n\ndef gaussian(x,a,b,c):\n    return a*np.exp(-(x-b)**2/(2*c**2))",
      "execution_count": 3,
      "outputs": []
    },
    {
      "metadata": {
        "slideshow": {
          "slide_type": "slide"
        }
      },
      "cell_type": "markdown",
      "source": "Let us plot a specific Gaussian for $a=c=1, b=0$. In other words, $f(x)=e^{-x^{2}}$"
    },
    {
      "metadata": {
        "slideshow": {
          "slide_type": "slide"
        },
        "trusted": true
      },
      "cell_type": "code",
      "source": "import matplotlib.pyplot as plt\n\na=1\nb=0\nc=np.sqrt(1/2)\ndx=0.1\nx = np.arange(-10,10,dx)\n\nplt.plot(x,gaussian(x,a,b,c))\nplt.xlabel('x')\nplt.ylabel('f(x)')\nplt.show()",
      "execution_count": 5,
      "outputs": [
        {
          "output_type": "display_data",
          "data": {
            "image/png": "[encoded data removed]",
            "text/plain": "<Figure size 432x288 with 1 Axes>"
          },
          "metadata": {
            "needs_background": "light"
          }
        }
      ]
    },
    {
      "metadata": {},
      "cell_type": "markdown",
      "source": "It may or may not be obvious from the graph and/or the equation, but $a$ controls the height of the bell curve, $b$ determines the horizontal position, and $c$ the width of the curve.\n\nThe area under this curve, the integral: $$\\int _{-\\infty }^{\\infty }e^{-x^{2}}dx$$ is of interest in many Physics problems. In our book, we need to determine this integral to find the Green's function for the heat equation, for example. The solution is not so simple, because there is no analytic anti-derivative for this problem. One option is always to approximate an integral numerically. Let's try that, and in the process learn some new python tricks!\n\nThe Gausian integral is the area under this curve. One option is turn this area into skinny rectangles of width $dx$ and add the areas of each rectangle. A function to compute the area of all the rectangles made up of height $f(x)$ and width $dx$ is "
    },
    {
      "metadata": {
        "trusted": true
      },
      "cell_type": "code",
      "source": "def g(a,b,c,x,dx):\n    return np.sum(gaussian(x,a,b,c)*dx)",
      "execution_count": 6,
      "outputs": []
    },
    {
      "metadata": {
        "trusted": true
      },
      "cell_type": "code",
      "source": "print(g(a,b,c,x,dx))",
      "execution_count": 7,
      "outputs": [
        {
          "output_type": "stream",
          "text": "1.7724538509055225\n",
          "name": "stdout"
        }
      ]
    },
    {
      "metadata": {},
      "cell_type": "markdown",
      "source": "Apparently, this is the numerical estimate of the aread under our Gaussian. To confirm, we can take advantage of the numerical integration capabilities in Python, with the [quad function](https://docs.scipy.org/doc/scipy/reference/generated/scipy.integrate.quad.html) in the scipy package. (And numpy even knows about infinity!)"
    },
    {
      "metadata": {
        "trusted": true
      },
      "cell_type": "code",
      "source": "from scipy.integrate import quad\nans, err = quad(gaussian, -np.inf, np.inf,args =(a,b,c))\nprint(ans)",
      "execution_count": 8,
      "outputs": [
        {
          "output_type": "stream",
          "text": "1.772453850905516\n",
          "name": "stdout"
        }
      ]
    },
    {
      "metadata": {},
      "cell_type": "markdown",
      "source": "Our two results agree to many significant digits, despite one of the methods being our \"crude\" summation of rectangles, limited to the region between -10 and 10. But what does this 1.77245 value mean?"
    },
    {
      "metadata": {},
      "cell_type": "markdown",
      "source": "Let's see if we cannot get an analytic solution to shed some light on this.\n$$\n\\int _{-\\infty }^{\\infty }e^{-x^{2}}dx =\n\\sqrt{\\int _{-\\infty }^{\\infty }\\int _{-\\infty }^{\\infty }e^{-x^{2}-y^2}dx dy}$$"
    },
    {
      "metadata": {},
      "cell_type": "markdown",
      "source": "It appears we made the problem harder, not easier, by going from a 1D integral to one in two dimensions, but $x^2+y^2 = r^2$, the radius of this 2-dimensional Gaussian, and we can solve the integral in polar coordinates:"
    },
    {
      "metadata": {},
      "cell_type": "markdown",
      "source": "\\begin{align}\n\\int _{-\\infty }^{\\infty }e^{-x^{2}}dx =\n\\sqrt{\\int _{-\\infty }^{\\infty }\\int _{-\\infty }^{\\infty }e^{-x^{2}-y^2}dx dy} \\\\\n\\sqrt{\\int _{-\\infty }^{\\infty }\\int_0^{2\\pi}e^{-r^{2}} rdr d\\theta}\n\\end{align}"
    },
    {
      "metadata": {},
      "cell_type": "markdown",
      "source": "How the integration area dxdy in polar coordinates becomes $rdrd\\theta$ (with an \"extra\" $r$) is explained in Chapter 4 of our book. This factor forms the \"Jacobian\" of the transfer from Cartesian to Polar coordidates. We can, however, present some intuitive insight to the elementary area of Cartesian and polar coordinates. The Cartesian element is $dA= dx dy$:"
    },
    {
      "metadata": {},
      "cell_type": "markdown",
      "source": "![cartesianelement.png](https://ndownloader.figshare.com/files/9928750)"
    },
    {
      "metadata": {},
      "cell_type": "markdown",
      "source": "In polar coordinates, the elementary area is a small arc length times a small but of radius: $dA = rd\\theta dr$, as you can see in the drawing below. If the arc length is mysterious to you, consider putting so many of these together that you get a full circle: $\\int_{2\\pi}rd\\theta = 2\\pi r$:"
    },
    {
      "metadata": {},
      "cell_type": "markdown",
      "source": "![polarelement.png](https://ndownloader.figshare.com/files/9928753)"
    },
    {
      "metadata": {},
      "cell_type": "markdown",
      "source": "After the conversion to polar coordinates, we can determine the anti-derivative after a simple change of variables, and solve our original Gaussian integral:"
    },
    {
      "metadata": {},
      "cell_type": "markdown",
      "source": "\\begin{align}\n\\iint_{-\\infty}^\\infty e^{-(x^{2}+y^{2})}dx dy &=\\int _{0}^{2\\pi }\\int _{0}^{\\infty }e^{-r^{2}}r\\,dr\\,d\\theta \\\\&=2\\pi \\int _{0}^{\\infty }re^{-r^{2}}\\,dr\\\\&=2\\pi \\int _{-\\infty }^{0}{\\tfrac {1}{2}}e^{s}\\,ds&&s=-r^{2}\\\\&=\\pi \\int _{-\\infty }^{0}e^{s}\\,ds\\\\&=\\pi (e^{0}-e^{-\\infty })\\\\&=\\pi.\n\\end{align}"
    },
    {
      "metadata": {},
      "cell_type": "markdown",
      "source": "This means that our original problem is \n$$\\int _{-\\infty }^{\\infty }e^{-x^{2}}dx = \\sqrt{\\iint_{-\\infty}^\\infty e^{-(x^{2}+y^{2})}dx dy}  = \\sqrt{\\pi}.$$\nAnd let us check that against our numerical answer:"
    },
    {
      "metadata": {
        "trusted": true
      },
      "cell_type": "code",
      "source": "np.sqrt(np.pi)",
      "execution_count": 9,
      "outputs": [
        {
          "output_type": "execute_result",
          "execution_count": 9,
          "data": {
            "text/plain": "1.7724538509055159"
          },
          "metadata": {}
        }
      ]
    },
    {
      "metadata": {},
      "cell_type": "markdown",
      "source": "Lo and behold, our (two) numerical and analytic solutions agree! Chapter 4 explains how to go from 3D Cartesian to Spherical coordinates, which will prove handy when we get to 3D problems with such a spherical symmetry. Also, we may revisit the Gaussian function in our python notebook about the Dirac Delta function of Chapter 13."
    }
  ],
  "metadata": {
    "kernelspec": {
      "name": "python36",
      "display_name": "Python 3.6",
      "language": "python"
    },
    "language_info": {
      "mimetype": "text/x-python",
      "nbconvert_exporter": "python",
      "name": "python",
      "pygments_lexer": "ipython3",
      "version": "3.6.6",
      "file_extension": ".py",
      "codemirror_mode": {
        "version": 3,
        "name": "ipython"
      }
    }
  },
  "nbformat": 4,
  "nbformat_minor": 2
}